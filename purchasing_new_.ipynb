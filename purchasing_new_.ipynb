{
  "nbformat": 4,
  "nbformat_minor": 0,
  "metadata": {
    "colab": {
      "name": "purchasing new .ipynb",
      "provenance": [],
      "collapsed_sections": []
    },
    "kernelspec": {
      "display_name": "Python 3",
      "name": "python3"
    },
    "language_info": {
      "name": "python"
    }
  },
  "cells": [
    {
      "cell_type": "markdown",
      "metadata": {
        "id": "7ELEbd-OhgzU"
      },
      "source": [
        "# **Read Data From JSON**"
      ]
    },
    {
      "cell_type": "markdown",
      "metadata": {
        "id": "sH0qN_jQhxHO"
      },
      "source": [
        "import json"
      ]
    },
    {
      "cell_type": "code",
      "metadata": {
        "id": "gDIObUXfg_Mq"
      },
      "source": [
        "import json"
      ],
      "execution_count": 5,
      "outputs": []
    },
    {
      "cell_type": "code",
      "metadata": {
        "id": "Fdx8_R2leOFW"
      },
      "source": [
        "\n",
        "fd = open(\"Record.json\",'r')\n",
        "r = fd.read()\n",
        "fd.close()\n",
        "\n",
        "record = json.loads(r)"
      ],
      "execution_count": 6,
      "outputs": []
    },
    {
      "cell_type": "code",
      "metadata": {
        "colab": {
          "base_uri": "https://localhost:8080/"
        },
        "id": "O2S_CoNOwuge",
        "outputId": "c71978f1-5fdf-474c-c2e1-8d2ae106eaed"
      },
      "source": [
        "record"
      ],
      "execution_count": 7,
      "outputs": [
        {
          "output_type": "execute_result",
          "data": {
            "text/plain": [
              "{'1001': {'name': 'Choco Cake', 'pr': 100, 'qn': 34},\n",
              " '1002': {'name': 'Milk Cake', 'pr': 800, 'qn': 100},\n",
              " '1003': {'name': 'Drink', 'pr': 85, 'qn': 100},\n",
              " '1004': {'name': 'Candy', 'pr': 5, 'qn': 1000},\n",
              " '1005': {'name': 'Pen', 'pr': 20, 'qn': 100},\n",
              " '1006': {'name': 'Phone', 'pr': 50000, 'qn': 10},\n",
              " '1007': {'name': 'Mic', 'pr': 1500, 'qn': 0},\n",
              " '1008': {'name': 'Case', 'pr': 599, 'qn': 5},\n",
              " '1009': {'name': 'Keyboard', 'pr': 1999, 'qn': 10},\n",
              " '1010': {'name': 'Pencil', 'pr': 10, 'qn': 100},\n",
              " '1011': {'name': 'Eraser', 'pr': 10, 'qn': 100},\n",
              " '1012': {'name': 'Scale', 'pr': 20, 'qn': 100},\n",
              " '1013': {'name': 'Earphone', 'pr': 199, 'qn': 100},\n",
              " '1014': {'name': 'Speaker', 'pr': 2999, 'qn': 100},\n",
              " '1015': {'name': 'Headset', 'pr': 199, 'qn': 100},\n",
              " '1016': {'name': 'Shoes', 'pr': 999, 'qn': 100},\n",
              " '1017': {'name': 'Mouse', 'pr': 999, 'qn': 100},\n",
              " '1018': {'name': 'Hairband', 'pr': 99, 'qn': 100},\n",
              " '1019': {'name': 'Hairclips', 'pr': 20, 'qn': 100},\n",
              " '1020': {'name': 'Pouch', 'pr': 30, 'qn': 100},\n",
              " '1021': {'name': 'Phenyl', 'pr': 150, 'qn': 100},\n",
              " '1022': {'name': 'Dettol', 'pr': 50, 'qn': 100},\n",
              " '1023': {'name': 'Savlon', 'pr': 60, 'qn': 100},\n",
              " '1024': {'name': 'Ball', 'pr': 100, 'qn': 100},\n",
              " '1025': {'name': 'Laptop', 'pr': 19999, 'qn': 100},\n",
              " '1026': {'name': 'Notebook', 'pr': 30, 'qn': 100},\n",
              " '1027': {'name': 'Printer', 'pr': 5999, 'qn': 100},\n",
              " '1028': {'name': 'Eggs', 'pr': 5, 'qn': 100},\n",
              " '1029': {'name': 'Oil packet', 'pr': 199, 'qn': 100},\n",
              " '1030': {'name': 'Salt packet', 'pr': 19, 'qn': 100}}"
            ]
          },
          "metadata": {},
          "execution_count": 7
        }
      ]
    },
    {
      "cell_type": "markdown",
      "metadata": {
        "id": "KX0UUWjExPzM"
      },
      "source": [
        "**Purchase**\n",
        "**Functionality**\n",
        "\n",
        "User can Input only Unique Product ID.\n",
        "Checks if the quantity entered is exceeding than the one mentioned in Record.json\n",
        "\n",
        "If statement is used here for checking if Product Id is already there in the record.\n",
        "\n",
        "Elif is used here for checking if entered quantity is exceeding. If it exceeds then it gives a message Your Entered Quantity exceeds than Record Quantity"
      ]
    },
    {
      "cell_type": "code",
      "metadata": {
        "colab": {
          "base_uri": "https://localhost:8080/"
        },
        "id": "rh4dZyJJynXL",
        "outputId": "e81ffee2-19ec-48cd-eb06-7c968ed583cb"
      },
      "source": [
        "ui_prod  = str(input(\"Enter the product_Id: \"))\n",
        "ui_quant = int(input(\"Enter the quantity: \"))\n",
        "\n",
        "if (ui_prod not in record.keys()):\n",
        "\n",
        "  print(\"Sorry,You entered wrong ID.\")\n",
        "\n",
        "elif (ui_quant > record[ui_prod]['qn']):\n",
        "\n",
        "  print(\"Your Entered Quantity exceeds than Record Quantity\")\n",
        "\n",
        "else:\n",
        "  print(\"----------------------------------------------------\")\n",
        "  print(\"Product: \", record[ui_prod]['name'])\n",
        "  print(\"Price: \", record[ui_prod]['pr'])\n",
        "  print(\"----------------------------------------------------\")\n",
        "  print(\"Time : \",time.ctime())\n",
        "  print(\"Billing Amount: \", record[ui_prod]['pr'] * ui_quant)\n",
        "\n",
        "  record[ui_prod]['qn'] = record[ui_prod]['qn'] - ui_quant"
      ],
      "execution_count": 13,
      "outputs": [
        {
          "output_type": "stream",
          "name": "stdout",
          "text": [
            "Enter the product_Id: 1002\n",
            "Enter the quantity: 1\n",
            "----------------------------------------------------\n",
            "Product:  Milk Cake\n",
            "Price:  800\n",
            "----------------------------------------------------\n",
            "Time :  Mon Sep  6 11:08:49 2021\n",
            "Billing Amount:  800\n"
          ]
        }
      ]
    },
    {
      "cell_type": "markdown",
      "metadata": {
        "id": "92_NF7RzzFIR"
      },
      "source": [
        "\n",
        "**Update Inventory After Purchase**"
      ]
    },
    {
      "cell_type": "code",
      "metadata": {
        "id": "xOpJ3lQlzKuG"
      },
      "source": [
        "\n",
        "js = json.dumps(record)\n",
        "\n",
        "fd = open(\"record.json\",'w')\n",
        "fd.write(js)\n",
        "fd.close()"
      ],
      "execution_count": 14,
      "outputs": []
    },
    {
      "cell_type": "code",
      "metadata": {
        "colab": {
          "base_uri": "https://localhost:8080/"
        },
        "id": "SzlriAlQzQpY",
        "outputId": "695382ac-5758-42f4-9461-997cf5c33187"
      },
      "source": [
        "record"
      ],
      "execution_count": 15,
      "outputs": [
        {
          "output_type": "execute_result",
          "data": {
            "text/plain": [
              "{'1001': {'name': 'Choco Cake', 'pr': 100, 'qn': 24},\n",
              " '1002': {'name': 'Milk Cake', 'pr': 800, 'qn': 99},\n",
              " '1003': {'name': 'Drink', 'pr': 85, 'qn': 100},\n",
              " '1004': {'name': 'Candy', 'pr': 5, 'qn': 1000},\n",
              " '1005': {'name': 'Pen', 'pr': 20, 'qn': 100},\n",
              " '1006': {'name': 'Phone', 'pr': 50000, 'qn': 10},\n",
              " '1007': {'name': 'Mic', 'pr': 1500, 'qn': 0},\n",
              " '1008': {'name': 'Case', 'pr': 599, 'qn': 5},\n",
              " '1009': {'name': 'Keyboard', 'pr': 1999, 'qn': 10},\n",
              " '1010': {'name': 'Pencil', 'pr': 10, 'qn': 100},\n",
              " '1011': {'name': 'Eraser', 'pr': 10, 'qn': 100},\n",
              " '1012': {'name': 'Scale', 'pr': 20, 'qn': 100},\n",
              " '1013': {'name': 'Earphone', 'pr': 199, 'qn': 100},\n",
              " '1014': {'name': 'Speaker', 'pr': 2999, 'qn': 100},\n",
              " '1015': {'name': 'Headset', 'pr': 199, 'qn': 100},\n",
              " '1016': {'name': 'Shoes', 'pr': 999, 'qn': 100},\n",
              " '1017': {'name': 'Mouse', 'pr': 999, 'qn': 100},\n",
              " '1018': {'name': 'Hairband', 'pr': 99, 'qn': 100},\n",
              " '1019': {'name': 'Hairclips', 'pr': 20, 'qn': 100},\n",
              " '1020': {'name': 'Pouch', 'pr': 30, 'qn': 100},\n",
              " '1021': {'name': 'Phenyl', 'pr': 150, 'qn': 100},\n",
              " '1022': {'name': 'Dettol', 'pr': 50, 'qn': 100},\n",
              " '1023': {'name': 'Savlon', 'pr': 60, 'qn': 100},\n",
              " '1024': {'name': 'Ball', 'pr': 100, 'qn': 100},\n",
              " '1025': {'name': 'Laptop', 'pr': 19999, 'qn': 100},\n",
              " '1026': {'name': 'Notebook', 'pr': 30, 'qn': 100},\n",
              " '1027': {'name': 'Printer', 'pr': 5999, 'qn': 100},\n",
              " '1028': {'name': 'Eggs', 'pr': 5, 'qn': 100},\n",
              " '1029': {'name': 'Oil packet', 'pr': 199, 'qn': 100},\n",
              " '1030': {'name': 'Salt packet', 'pr': 19, 'qn': 100}}"
            ]
          },
          "metadata": {},
          "execution_count": 15
        }
      ]
    }
  ]
}