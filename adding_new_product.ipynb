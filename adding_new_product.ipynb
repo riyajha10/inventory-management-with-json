{
  "nbformat": 4,
  "nbformat_minor": 0,
  "metadata": {
    "colab": {
      "name": "adding new product.ipynb",
      "provenance": []
    },
    "kernelspec": {
      "name": "python3",
      "display_name": "Python 3"
    },
    "language_info": {
      "name": "python"
    }
  },
  "cells": [
    {
      "cell_type": "code",
      "metadata": {
        "id": "XR7mItDpeGBj"
      },
      "source": [
        "import json"
      ],
      "execution_count": 1,
      "outputs": []
    },
    {
      "cell_type": "code",
      "metadata": {
        "id": "Fdx8_R2leOFW"
      },
      "source": [
        "\n",
        "fd = open(\"Record.json\",'r')\n",
        "r = fd.read()\n",
        "fd.close()\n",
        "\n",
        "record = json.loads(r)"
      ],
      "execution_count": 2,
      "outputs": []
    },
    {
      "cell_type": "code",
      "metadata": {
        "colab": {
          "base_uri": "https://localhost:8080/"
        },
        "id": "K6N2SBVieSMI",
        "outputId": "07ba533c-2680-4d06-81e3-84554aa40bc0"
      },
      "source": [
        "record"
      ],
      "execution_count": 3,
      "outputs": [
        {
          "output_type": "execute_result",
          "data": {
            "text/plain": [
              "{'1001': {'name': 'Choco Cake', 'pr': 100, 'qn': 34},\n",
              " '1002': {'name': 'Milk Cake', 'pr': 800, 'qn': 100},\n",
              " '1003': {'name': 'Drink', 'pr': 85, 'qn': 100},\n",
              " '1004': {'name': 'Candy', 'pr': 5, 'qn': 1000},\n",
              " '1005': {'name': 'Pen', 'pr': 20, 'qn': 100},\n",
              " '1006': {'name': 'Phone', 'pr': 50000, 'qn': 10},\n",
              " '1007': {'name': 'Mic', 'pr': 1500, 'qn': 0},\n",
              " '1008': {'name': 'Case', 'pr': 599, 'qn': 5},\n",
              " '1009': {'name': 'Keyboard', 'pr': 1999, 'qn': 10},\n",
              " '1010': {'name': 'Pencil', 'pr': 10, 'qn': 100},\n",
              " '1011': {'name': 'Eraser', 'pr': 10, 'qn': 100},\n",
              " '1012': {'name': 'Scale', 'pr': 20, 'qn': 100},\n",
              " '1013': {'name': 'Earphone', 'pr': 199, 'qn': 100},\n",
              " '1014': {'name': 'Speaker', 'pr': 2999, 'qn': 100},\n",
              " '1015': {'name': 'Headset', 'pr': 199, 'qn': 100},\n",
              " '1016': {'name': 'Shoes', 'pr': 999, 'qn': 100},\n",
              " '1017': {'name': 'Mouse', 'pr': 999, 'qn': 100},\n",
              " '1018': {'name': 'Hairband', 'pr': 99, 'qn': 100},\n",
              " '1019': {'name': 'Hairclips', 'pr': 20, 'qn': 100},\n",
              " '1020': {'name': 'Pouch', 'pr': 30, 'qn': 100},\n",
              " '1021': {'name': 'Phenyl', 'pr': 150, 'qn': 100},\n",
              " '1022': {'name': 'Dettol', 'pr': 50, 'qn': 100},\n",
              " '1023': {'name': 'Savlon', 'pr': 60, 'qn': 100},\n",
              " '1024': {'name': 'Ball', 'pr': 100, 'qn': 100},\n",
              " '1025': {'name': 'Laptop', 'pr': 19999, 'qn': 100},\n",
              " '1026': {'name': 'Notebook', 'pr': 30, 'qn': 100},\n",
              " '1027': {'name': 'Printer', 'pr': 5999, 'qn': 100},\n",
              " '1028': {'name': 'Eggs', 'pr': 5, 'qn': 100},\n",
              " '1029': {'name': 'Oil packet', 'pr': 199, 'qn': 100},\n",
              " '1030': {'name': 'Salt packet', 'pr': 19, 'qn': 100}}"
            ]
          },
          "metadata": {},
          "execution_count": 3
        }
      ]
    },
    {
      "cell_type": "markdown",
      "metadata": {
        "id": "H3D44OS8e_Ru"
      },
      "source": [
        "# **Add New Item into Inventory**"
      ]
    },
    {
      "cell_type": "markdown",
      "metadata": {
        "id": "Qprd7GSkfn7s"
      },
      "source": [
        "**Functionality**\n",
        "*   ***User can Input only Unique Product ID.***\n",
        "\n",
        "\n",
        "---\n",
        "*   ***If statement is used here for checking if Product Id is already there in the record.***"
      ]
    },
    {
      "cell_type": "code",
      "metadata": {
        "colab": {
          "base_uri": "https://localhost:8080/"
        },
        "id": "Qcw_Jy_Re6Uz",
        "outputId": "7494aaa4-21e5-427d-d9e3-c7025cd96fc1"
      },
      "source": [
        "prod_id = str(input(\"Enter Product ID : \"))\n",
        "nme = str(input(\"Enter Product Name : \"))\n",
        "price = int(input(\"Enter Price : \"))\n",
        "quan = int(input(\"Enter Quantity : \"))\n",
        "if (prod_id in record.keys()):\n",
        "  print(\"It's already there in the Record.Please Run the cell Again\")\n",
        "else:\n",
        "  record[prod_id] = {'name':nme, 'pr':price, 'qr':quan}\n",
        "  js = json.dumps(record)\n",
        "  fd = open('Record.json','w')\n",
        "  fd.write(js)\n",
        "  fd.close()"
      ],
      "execution_count": 5,
      "outputs": [
        {
          "output_type": "stream",
          "name": "stdout",
          "text": [
            "Enter Product ID : 1002\n",
            "Enter Product Name : mouse\n",
            "Enter Price : 1000\n",
            "Enter Quantity : 1\n",
            "It's already there in the Record.Please Run the cell Again\n"
          ]
        }
      ]
    },
    {
      "cell_type": "markdown",
      "metadata": {
        "id": "fFa1V33ugR4X"
      },
      "source": [
        "# **Deleting a cell**"
      ]
    },
    {
      "cell_type": "markdown",
      "metadata": {
        "id": "6zj4yjA4gV-8"
      },
      "source": [
        "**Functionality**\n",
        "* ***If product id is not there in Record.json, it won't delete and gives a message that No such item exists.***\n",
        "\n",
        "\n",
        "---\n",
        "*   ***If statement is used here for checking if Product Id is already there in the record.***"
      ]
    },
    {
      "cell_type": "code",
      "metadata": {
        "colab": {
          "base_uri": "https://localhost:8080/"
        },
        "id": "Iaa3ehoVgb2T",
        "outputId": "f8489026-e285-4167-c674-9b6ffe240b25"
      },
      "source": [
        "prod_id = str(input(\"Enter Product ID : \"))\n",
        "if (prod_id in record.keys()):\n",
        "  del record[prod_id]\n",
        "  print(\"Item deleted\")\n",
        "else:\n",
        "  print(\"No item exists\")"
      ],
      "execution_count": 6,
      "outputs": [
        {
          "output_type": "stream",
          "name": "stdout",
          "text": [
            "Enter Product ID : 1003\n",
            "Item deleted\n"
          ]
        }
      ]
    }
  ]
}